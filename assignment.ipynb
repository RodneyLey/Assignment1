{
 "cells": [
  {
   "cell_type": "code",
   "execution_count": null,
   "id": "8a357007",
   "metadata": {},
   "outputs": [],
   "source": [
    "import pandas as pd\n",
    "import matplotlib.pyplot as plt\n",
    "import seaborn as sns\n",
    "#Load the dataset\n",
    "df = pd.read_csv('traffic_accidents_c6.csv')\n",
    "#Display the first 10 rows of the dataset    \n",
    "print(df.head(10))"
   ]
  },
  {
   "cell_type": "code",
   "execution_count": null,
   "id": "f2b5c4b6",
   "metadata": {},
   "outputs": [],
   "source": [
    "#Check for missing values and handle them appropriately\n",
    "df = pd.read_csv('traffic_accidents_c6.csv')\n",
    "df.dropna(inplace = True)\n",
    "#Create a new column crash_month to store the accident month as a name\n",
    "df['crash_month'] = pd.to_datetime(df['crash_date']).dt.month_name()\n",
    "#Create a new column crash_day to store the accident day as a name\n",
    "df['crash_day'] = pd.to_datetime(df['crash_date']).dt.day_name()\n",
    "#Display the first 10 rows of the dataset with the new column  \n",
    "print(df.head(10))"
   ]
  },
  {
   "cell_type": "code",
   "execution_count": null,
   "id": "0663ee12",
   "metadata": {},
   "outputs": [],
   "source": [
    "#Identify and list categorical columns.\n",
    "categorical_cols = df.select_dtypes(include=['object', 'category']).columns.tolist()\n",
    "print(\"Categorical columns:\", categorical_cols)\n",
    "\n",
    "#Count the number of unique values for each categorical variable.\n",
    "unique_counts = df[categorical_cols].nunique()\n",
    "print(\"Unique values per categorical column:\\n\", unique_counts)\n",
    "\n",
    "#Generate descriptive statistics for numerical features.\n",
    "numerical_stats = df.describe()\n",
    "print(\"Descriptive statistics for numerical features:\\n\", numerical_stats)\n"
   ]
  },
  {
   "cell_type": "code",
   "execution_count": null,
   "id": "50c4a2ab",
   "metadata": {},
   "outputs": [],
   "source": [
    "# Visualize the number of accidents per month using a line plot.\n",
    "# Visualize the number of accidents per day of the week using a bar chart.\n",
    "# Identify the most accident-prone hour of the day and visualize it using an appropriate plot.\n",
    "# Compare the number of accidents that occurred in daylight and in darkness using two lines on the same plot."
   ]
  }
 ],
 "metadata": {
  "kernelspec": {
   "display_name": "Python 3",
   "language": "python",
   "name": "python3"
  },
  "language_info": {
   "codemirror_mode": {
    "name": "ipython",
    "version": 3
   },
   "file_extension": ".py",
   "mimetype": "text/x-python",
   "name": "python",
   "nbconvert_exporter": "python",
   "pygments_lexer": "ipython3",
   "version": "3.11.2"
  }
 },
 "nbformat": 4,
 "nbformat_minor": 5
}
